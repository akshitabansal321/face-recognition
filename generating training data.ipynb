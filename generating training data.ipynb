{
 "cells": [
  {
   "cell_type": "code",
   "execution_count": 3,
   "id": "5668e6c9",
   "metadata": {},
   "outputs": [],
   "source": [
    "import pandas as pd\n",
    "import cv2\n",
    "import numpy as np"
   ]
  },
  {
   "cell_type": "code",
   "execution_count": 4,
   "id": "ec8010be",
   "metadata": {},
   "outputs": [
    {
     "name": "stdout",
     "output_type": "stream",
     "text": [
      "Enter the name of person: akshita\n"
     ]
    }
   ],
   "source": [
    "skip=0\n",
    "count=0\n",
    "face_data=[]\n",
    "dataset_path='./data/'\n",
    "file_name=input(\"Enter the name of person: \")"
   ]
  },
  {
   "cell_type": "code",
   "execution_count": 5,
   "id": "b9f5011f",
   "metadata": {},
   "outputs": [
    {
     "name": "stdout",
     "output_type": "stream",
     "text": [
      "1\n",
      "2\n",
      "3\n",
      "4\n",
      "5\n",
      "6\n",
      "7\n",
      "8\n",
      "9\n",
      "10\n",
      "11\n",
      "12\n",
      "13\n",
      "14\n",
      "15\n",
      "16\n",
      "17\n",
      "18\n",
      "19\n",
      "20\n",
      "21\n",
      "22\n",
      "23\n",
      "24\n",
      "25\n",
      "(25, 30000)\n",
      "data successfully saved at  ./data/akshita.npy\n"
     ]
    }
   ],
   "source": [
    "#init camera\n",
    "cap=cv2.VideoCapture(0)\n",
    "\n",
    "#face detection\n",
    "face_cascade= cv2.CascadeClassifier('haarcascade_frontalface_alt.xml')\n",
    "\n",
    "while True:\n",
    "        ret,frame=cap.read()\n",
    "        \n",
    "        if ret==False:\n",
    "            continue\n",
    "        \n",
    "        \n",
    "        gray_frame=cv2.cvtColor(frame,cv2.COLOR_BGR2GRAY)\n",
    "        \n",
    "        faces=face_cascade.detectMultiScale(frame,1.3,5)\n",
    "        faces=sorted(faces,key=lambda f:f[2]*f[3])\n",
    "#         print(faces)\n",
    "        \n",
    "        #pick the last face because it is the largest face acc to area (area=f[2]*f[3])\n",
    "        for face in faces[-1:]:\n",
    "            x,y,w,h=face\n",
    "            cv2.rectangle(frame,(x,y),(x+w,y+h),(0,255,255),2)\n",
    "            \n",
    "            \n",
    "            #extract (crop out required face):region of interest\n",
    "            offset=10\n",
    "            face_section=frame[y-offset:y+h+offset, x-offset:x+w+offset]\n",
    "            face_section=cv2.resize(face_section,(100,100))\n",
    "        \n",
    "        \n",
    "        #store every 10th face\n",
    "            skip+=1\n",
    "            if(skip%10==0):\n",
    "                face_data.append(face_section)\n",
    "                count+=1\n",
    "                print(count)\n",
    "#         print(len(face_data))\n",
    "            \n",
    "        \n",
    "        \n",
    "        cv2.imshow(\"Frame\",frame)\n",
    "        cv2.imshow(\"facesection\",face_section)\n",
    "        \n",
    "        key_pressed=cv2.waitKey(1) & 0xFF\n",
    "        if key_pressed==ord('q'):\n",
    "            break\n",
    "\n",
    "#convert face list array into a numpy array \n",
    "face_data=np.asarray(face_data)\n",
    "face_data=face_data.reshape((face_data.shape[0],-1))\n",
    "print(face_data.shape)\n",
    "\n",
    "#save this data into file system\n",
    "np.save(dataset_path+file_name+'.npy',face_data)\n",
    "print(\"data successfully saved at \",dataset_path+file_name+'.npy')\n",
    "\n",
    "\n",
    "cap.release()\n",
    "cv2.destroyAllWindows()"
   ]
  },
  {
   "cell_type": "code",
   "execution_count": 6,
   "id": "9c79d0d6",
   "metadata": {},
   "outputs": [],
   "source": [
    "cap.release()\n",
    "cv2.destroyAllWindows()"
   ]
  },
  {
   "cell_type": "code",
   "execution_count": null,
   "id": "24d93de6",
   "metadata": {},
   "outputs": [],
   "source": []
  }
 ],
 "metadata": {
  "kernelspec": {
   "display_name": "Python 3 (ipykernel)",
   "language": "python",
   "name": "python3"
  },
  "language_info": {
   "codemirror_mode": {
    "name": "ipython",
    "version": 3
   },
   "file_extension": ".py",
   "mimetype": "text/x-python",
   "name": "python",
   "nbconvert_exporter": "python",
   "pygments_lexer": "ipython3",
   "version": "3.10.5"
  }
 },
 "nbformat": 4,
 "nbformat_minor": 5
}
