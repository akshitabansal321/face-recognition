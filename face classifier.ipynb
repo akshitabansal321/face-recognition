{
 "cells": [
  {
   "cell_type": "markdown",
   "id": "cb0d6f80",
   "metadata": {},
   "source": [
    "# recognise faces using knn classification algorithm"
   ]
  },
  {
   "cell_type": "code",
   "execution_count": 1,
   "id": "fa56fdd6",
   "metadata": {},
   "outputs": [],
   "source": [
    "import os\n",
    "import numpy as np\n",
    "import cv2"
   ]
  },
  {
   "cell_type": "code",
   "execution_count": 2,
   "id": "3dceb16a",
   "metadata": {},
   "outputs": [],
   "source": [
    "def distance(x1,x2):\n",
    "    return np.sqrt(sum((x1-x2)**2))\n",
    "\n",
    "def knn(train,test,k=10):\n",
    "    dist=[]\n",
    "    \n",
    "    m=train.shape[0]\n",
    "    \n",
    "    for i in range(m):\n",
    "        #get the vector and label\n",
    "        ix=train[i,:-1]\n",
    "        iy=train[i,-1]\n",
    "        #compute the distance from test point\n",
    "        d=distance(test,ix)\n",
    "        dist.append([d,iy])\n",
    "        \n",
    "    #sort based on distance and get top k\n",
    "    dk=sorted(dist, key=lambda x: x[0])[:k]\n",
    "    \n",
    "    #retrieve only the labels\n",
    "    labels=np.array(dk)[:,-1]\n",
    "    \n",
    "    #get frequencies of each label\n",
    "    output=np.unique(labels,return_counts=True)\n",
    "    \n",
    "    #find max frequency and corresponding label\n",
    "    index=np.argmax(output[1])\n",
    "    return output[0][index]\n",
    "    \n",
    "    \n",
    "        "
   ]
  },
  {
   "cell_type": "code",
   "execution_count": 3,
   "id": "c21f0c45",
   "metadata": {},
   "outputs": [],
   "source": [
    "skip=0\n",
    "dataset_path='./data/'\n",
    "face_data=[]\n",
    "labels=[]\n",
    "class_id=0  #labels for the given file\n",
    "names={} #mapping btw id-name"
   ]
  },
  {
   "cell_type": "code",
   "execution_count": 4,
   "id": "b92c887e",
   "metadata": {},
   "outputs": [
    {
     "name": "stdout",
     "output_type": "stream",
     "text": [
      "(39, 30000)\n",
      "(39, 1)\n",
      "(39, 30001)\n"
     ]
    }
   ],
   "source": [
    "#init camera\n",
    "cap= cv2.VideoCapture(0)\n",
    "\n",
    "#face detection\n",
    "face_cascade= cv2.CascadeClassifier('haarcascade_frontalface_alt.xml')\n",
    "\n",
    "#Data preparation\n",
    "for fx in os.listdir(dataset_path):\n",
    "    if fx.endswith('.npy'):\n",
    "        \n",
    "        #create a mapping between class_id and name\n",
    "        names[class_id]=fx[:-4]\n",
    "        data_item=np.load(dataset_path+fx)\n",
    "        face_data.append(data_item)\n",
    "        \n",
    "        #Create labels for the class\n",
    "        target=class_id*np.ones((data_item.shape[0],))\n",
    "        class_id+=1\n",
    "        labels.append(target)\n",
    "        \n",
    "face_dataset = np.concatenate(face_data,axis=0)\n",
    "face_labels= np.concatenate(labels,axis=0).reshape((-1,1))\n",
    "\n",
    "print(face_dataset.shape)\n",
    "print(face_labels.shape)\n",
    "\n",
    "trainset = np.concatenate((face_dataset,face_labels),axis=1)\n",
    "print(trainset.shape)\n",
    "\n",
    "        "
   ]
  },
  {
   "cell_type": "markdown",
   "id": "ff915828",
   "metadata": {},
   "source": [
    "# testing\n"
   ]
  },
  {
   "cell_type": "code",
   "execution_count": 5,
   "id": "81a51b33",
   "metadata": {},
   "outputs": [],
   "source": [
    "while True:\n",
    "    ret,frame=cap.read()\n",
    "    if ret==False:\n",
    "        continue\n",
    "        \n",
    "    faces=face_cascade.detectMultiScale(frame,1.3,5)\n",
    "    \n",
    "    for face in faces:\n",
    "        x,y,w,h=face\n",
    "        \n",
    "        #get the face ROI\n",
    "        offset=10\n",
    "        face_section=frame[y-offset:y+h+offset, x-offset:x+w+offset]\n",
    "        face_section=cv2.resize(face_section,(100,100))\n",
    "        \n",
    "        #predicted label (out)\n",
    "        out=knn(trainset,face_section.flatten())\n",
    "        \n",
    "        #display on the screen the name and rectangle around it\n",
    "        pred_name=names[int(out)]\n",
    "        cv2.putText(frame,pred_name,(x,y-10),cv2.FONT_HERSHEY_SIMPLEX,1,(255,0,0),2,cv2.LINE_AA)\n",
    "        cv2.rectangle(frame,(x,y),(x+w,y+h),(0,255,255),2)\n",
    "        \n",
    "    cv2.imshow(\"faces\",frame)\n",
    "    \n",
    "    key_pressed=cv2.waitKey(1) & 0xFF\n",
    "    if key_pressed==ord('q'):\n",
    "        break\n",
    "            \n",
    "cap.release()\n",
    "cv2.destroyAllWindows()\n",
    "        \n",
    "        \n",
    "        \n",
    "        \n",
    "        "
   ]
  },
  {
   "cell_type": "code",
   "execution_count": 12,
   "id": "8c05bee0",
   "metadata": {},
   "outputs": [],
   "source": [
    "            \n",
    "cap.release()\n",
    "cv2.destroyAllWindows()"
   ]
  },
  {
   "cell_type": "code",
   "execution_count": null,
   "id": "a44c688c",
   "metadata": {},
   "outputs": [],
   "source": []
  }
 ],
 "metadata": {
  "kernelspec": {
   "display_name": "Python 3 (ipykernel)",
   "language": "python",
   "name": "python3"
  },
  "language_info": {
   "codemirror_mode": {
    "name": "ipython",
    "version": 3
   },
   "file_extension": ".py",
   "mimetype": "text/x-python",
   "name": "python",
   "nbconvert_exporter": "python",
   "pygments_lexer": "ipython3",
   "version": "3.10.5"
  }
 },
 "nbformat": 4,
 "nbformat_minor": 5
}
